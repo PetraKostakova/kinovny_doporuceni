{
 "cells": [
  {
   "cell_type": "code",
   "execution_count": 2,
   "metadata": {
    "collapsed": false
   },
   "outputs": [],
   "source": []
  },
  {
   "cell_type": "code",
   "execution_count": 10,
   "metadata": {
    "collapsed": false
   },
   "outputs": [
    {
     "name": "stdout",
     "output_type": "stream",
     "text": [
      "1\n",
      "['0140327746', '0416876706', '2013217854']\n",
      "[['Little Town on the Prairie', 20.0], ['LA Ligne Verte', 20.0], ['The Outlaws of Sherwood', 20.0], ['Les fourmis: Roman', 20.0], ['229032117', 20.0], ['Cheaper by the Dozen', 20.0], ['La revolution des fourmis', 20.0], ['Bilbo, Le Hobbit', 20.0], [\"Harry Potter, tome 3 : Harry Potter et le Prisonnier d'Azkaban\", 20.0], ['Le Monde de Sophie', 20.0], ['The Lion, the Witch, and the Wardrobe (The Chronicles of Narnia, Book 2)', 20.0], ['Hygiene De Lassassin', 20.0], ['Le Seigneur des anneaux', 20.0], ['La Tour sombre, tome 1 : Le pistolero', 20.0], ['The Notebook', 20.0], ['Le jour des fourmis: Roman', 20.0], ['PĂ?Â©plum', 20.0], ['Stupeur Et Tremblements', 20.0], ['Le Sabotage amoureux', 20.0], [\"L'empire des anges: Roman\", 20.0], ['2266099701', 20.0], ['The Secret Garden', 20.0], ['The Trolley Car Family', 20.0], ['Ă?Â?a', 20.0], ['La tour sombre 3 - terres perdues', 20.0], [\"Fondation et chaos : D'aprĂ?Â¨s l'Ă?Â?uvre de Isaac Asimov\", 20.0], ['Le Disque Monde: La Huitieme Couleur', 20.0], ['Hard Eight : A Stephanie Plum Novel (A Stephanie Plum Novel)', 19.0], ['Steal Away Home', 19.0], ['Chocolate Fever', 19.0], ['Anne of Avonlea (Anne of Green Gables Novels (Paperback))', 19.0], ['Sarah (Card, Orson Scott. Women of Genesis.)', 19.0], ['La Nuit des temps', 19.0], ['The Spider Sapphire Mystery (Nancy Drew Mystery Stories, No 45)', 19.0], ['Westing Game', 19.0], ['Sideways Stories from Wayside School (Wayside School)', 19.0], [\"Si c'est un homme\", 19.0], [\"Lyon's Pride (Rowan)\", 19.0], ['The Unicorn Sonata', 19.0], ['The Thirteen Problems (The Tuesday Club Murders)', 19.0], ['Damia (Ace Science Fiction)', 19.0], ['Les Thanatonautes', 19.0], ['Tales of a Fourth Grade Nothing', 19.0], ['Harry Potter, tome 4 : Harry Potter et la coupe de feu', 19.0], ['Two for the Dough', 19.0], ['Metaphysique Des Tubes', 19.0], ['Henry Huggins (50th Anniversary Edition)', 19.0], ['9646358012', 19.0], ['Clue of the Black Keys (Nancy Drew (Hardcover))', 18.0], ['The Indian in the Cupboard (rack) (Indian in the Cupboard)', 18.0], ['Ramona Quimby', 18.0], ['Tour sombre 4 : magie et cristal', 18.0], ['High Five (A Stephanie Plum Novel)', 18.0], ['The Magic School Bus in the Haunted Museum: A Book About Sound (Magic School Bus (Paperback))', 18.0], ['La Silmarillon (Lord of the Rings (French))', 18.0], ['Breastfeeding Your Baby (National Childbirth Trust Guide)', 18.0], ['My Louisiana Sky', 18.0], ['The Folk of the Fringe', 18.0], ['The Lord God Made Them All', 18.0], ['The Street Lawyer', 18.0], ['Mirror of Destiny', 18.0], ['Noonday Friends', 18.0], ['Angel Light: An Old-Fashioned Love Story', 18.0], ['Ralph S. Mouse', 18.0], ['226609212X', 18.0], ['Curtain', 18.0], ['Le Peuple du Tapis', 18.0], ['The Humpbacked Fluteplayer', 18.0], [\"L'Enchanteur\", 18.0], ['The Thief', 18.0], ['Mystic River', 18.0], [\"Harry Potter, tome 1 : Harry Potter Ă?Â\\xa0 l'Ă?Â©cole des sorciers\", 18.0], ['Phoebe: A Novel (Sisters Series, Book 1)', 18.0], ['The Whipping Boy', 18.0], ['2013214707', 18.0], ['TOWARDS ZERO', 18.0], ['Every Living Thing', 18.0], ['A Case of Need', 18.0], ['Sphere', 18.0], ['Hans Brinker or the Silver Skates', 18.0], [\"Et Si C'Etait Vrai / If This Were Only True\", 18.0], ['The Cricket in Times Square (Newbery Winners for Microcomputers)', 18.0], [\"LOTTA'S CHRISTMAS SURPRISE PB\", 18.0], ['Wayside School Gets a Little Stranger (Wayside School)', 18.0], ['226701453X', 18.0], ['Jip: His Story', 18.0], ['SILVERWING', 18.0], ['Waiting for the Rain', 18.0], ['Mystery of Crocodile Island (Nancy Drew Mystery Stories, No 55)', 18.0], ['Sleep Toward Heaven: A Novel', 18.0], ['Presumed Innocent', 18.0], ['The Secret of the Old Clock (Nancy Drew Mystery Stories, No 1)', 18.0], [\"The Midwife's Apprentice (Trophy Newbery)\", 17.6], ['Maggie Needs an Alibi', 17.6], ['How to Make an American Quilt', 17.6], ['Seven Up (A Stephanie Plum Novel)', 17.6], ['The Velveteen Rabbit: Or How Toys Become Real', 17.6], ['Baleinier de la nuit', 17.6], ['Joshua', 17.6], ['Codex', 17.6], ['The Moorchild (Aladdin Fantasy)', 17.6], [\"Stephen Coonts' Deep Black (Deep Black)\", 17.6], ['Ramona and Her Father (Avon Camelot Books (Paperback))', 17.6], ['Women of the Silk : A Novel', 17.6], [\"Belle Prater's Boy\", 17.6], ['Hundred Dollar Holiday : The Case For A More Joyful Christmas', 17.6], ['Johnny Long Legs (Matt Christopher Sports Classics)', 17.6], ['Cat in the Hat Book &amp; Cassette', 17.6], ['The 7 Habits of Highly Effective Families: Building a Beautiful Family Culture in a Turbulent World', 17.6], ['The Return of the Indian (Indian in the Cupboard)', 17.6], ['Garfield Keeps His Chins Up (Garfield (Numbered Paperback))', 17.6], ['Julie of the Wolves (Julie of the Wolves)', 17.6], ['Hank the Cowdog #9: The Case of the Halloween Ghost', 17.6], ['The New Breed (Brotherhood of War)', 17.6], ['Divine Secrets of the Ya-Ya Sisterhood: A Novel', 17.6], [\"Band of Brothers : E Company, 506th Regiment, 101st Airborne from Normandy to Hitler's Eagle's Nest\", 17.6], ['JOSHUA AND THE CHILDREN', 17.6], ['Saucer', 17.6], ['Ride the River : The Sacketts (Sacketts)', 17.6], ['The Golden Goblet (Puffin Newbery Library)', 17.6], ['COMEBACK DOG, THE', 17.6], ['Shortcut', 17.6], ['Spot Goes to School', 17.6], ['Henry and Ribsy 50th Anniversary Edition (Avon Camelot Books (Paperback))', 17.6], ['Children of the Wind and Water: Five Stories about Native American Children', 17.6], ['Merry Christmas, Amelia Bedelia', 17.6], ['Dragon Steel', 17.6], ['Garfield in Paradise', 17.6], ['Zia', 17.6], ['Shining', 17.6], ['You Are the Rain', 17.6], ['Moi, Asimov', 17.6], ['Second Nature', 17.6], ['Net Force, tome 4 : Le Jeu du solitaire', 17.6], [\"L'orphelin de Perdide: Roman ; suivi de, Droit de rĂ©ponse ; Jeux de vestales ; Gwendoline (PrĂ©sence du futur)\", 17.6], ['Beach Music', 17.6], ['Mother of an Army', 17.6], ['Garfield Rounds Out (Garfield (Numbered Paperback))', 17.6], ['Every Dog Has His Day (Hank the Cowdog, 10)', 17.6], ['Encyclopedia Brown Solves Them All (Encyclopedia Brown (Paperback))', 17.6], ['Scarlet Music: Hildegard of Bingen : A Novel', 17.6], [\"CosmĂ?Â©tique de l'ennemi\", 17.6], [\"Halley's Comet (New True Books)\", 17.6], ['Hot Six : A Stephanie Plum Novel (A Stephanie Plum Novel)', 17.6], ['The Mouse and the Motorcycle', 17.6], ['Speak!: The Best Quips, Quotes, and Anecdotes for Dog Lovers', 17.6], ['Wizard at Large (Rookies Series)', 17.6], ['The Original Adventures of Hank the Cowdog (Hank the Cowdog 1)', 17.6], ['Bring Me The Head Of Willy The Mailboy!', 17.6], ['Red Thread', 17.6], ['To the Nines (A Stephanie Plum Novel)', 17.6], ['Sense and sensibility', 17.6], ['D Is for Deadbeat (Kinsey Millhone Mysteries (Paperback))', 17.6], ['Pregnancy &amp; childbirth: The complete guide for a new life', 17.6], [\"Tracking Your Walk: The Young Person's Prayer Diary (Chart Your Course)\", 17.6], ['The Bristling Wood (Deverry)', 17.6], ['A Wrinkle in Time', 17.6], ['One Fish, Two Fish, Red Fish, Blue Fish (I Can Read It All by Myself Beginner Books)', 17.6], [\"Harry Potter and the Sorcerer's Stone (Harry Potter (Paperback))\", 17.6], ['The Secret of the Indian (Indian in the Cupboard)', 17.6], ['Henry Huggins', 17.6], ['Anastasia at This Address', 17.6], ['Redneck Classic: The Best of Jeff Foxworthy', 17.6], ['Taggerung (Redwall, Book 14)', 17.6], ['Count Zero (Ace Science Fiction)', 17.6], ['La Catilinaires', 17.6], ['The Woman in the Wall', 17.6], ['The Arkadians', 17.6], ['Songmaster', 17.6], ['The ABYSS', 17.6], ['The True Confessions of Charlotte Doyle', 17.6], ['Prophet', 17.6], ['From the Mixed-Up Files of Mrs. Basil E. Frankweiler', 17.6], ['9646652050', 17.6], ['Call of the Wild', 17.6], ['Downsize This! Random Threats from an Unarmed American', 17.6], ['Virtual Light', 17.6], ['Angels and Other Strangers (rpkg) : Family Christmas Stories', 17.6], ['Kid Who Ran for Principal', 17.6], [\"OFFICIAL SCRABBLE PLAYER'S DICTIONARY\", 17.6], ['The Case of the Night-Stalking Bone Monster (Hank the Cowdog, 27)', 17.6], ['A Wrinkle In Time', 17.6], ['The Woman in White (Modern Library Classics)', 17.6], ['The Dune Storybook', 17.6], ['Garfield: His 9 Lives', 17.6], ['Warrior Class', 17.6], ['Bridge to Terabithia', 17.6], ['Westmark', 17.6], ['One for the Money (A Stephanie Plum Novel)', 17.6], ['Freckle Juice', 17.6], [\"Through Wolf's Eyes (Wolf)\", 17.6], ['Runaway Ralph', 17.0], ['Net Force, tome 2 : Vandales virtuels', 17.0], ['Sentries', 17.0], ['Shopgirl', 17.0], ['Old Curiosity Shop (Wordsworth Collection)', 17.0], ['Why Girls Are Weird : A Novel', 17.0], ['2290307769', 17.0], ['Garfield Rolls on (Garfield (Numbered Paperback))', 17.0], ['A Separate Peace', 17.0], ['Lancelot Du Lethe (Mad Merlin)', 17.0], ['HOW TO EAT FRIED WORMS', 17.0], [\"L'Utopie, ou, Le TraitĂ?Â© de la meilleure forme de gouvernement\", 17.0], ['The Big U', 17.0], [\"Arthur's April Fool (Arthur Adventure Series)\", 17.0], ['How Stella Got Her Groove Back', 17.0], [\"Harry Potter et l'Ordre du PhĂ©nix (Harry Potter, tome 5)\", 17.0], ['Courting Trouble', 17.0], ['Garfield Sits Around the House (Garfield (Numbered Paperback))', 17.0], [\"In Camelot's Shadow\", 17.0], ['Wyrms', 17.0], ['Viou, tome 3 : Le TroisiĂ?Â©me Bonheur', 17.0], ['Garfield Goes to Waist, No 18 (Garfield (Numbered Paperback))', 17.0], ['Philip Hall Likes Me. I Reckon Maybe. (Puffin Newberry Library)', 17.0], ['Les Raisins de la colĂ?Â¨re', 17.0], [\"Sharpe's Prey : Richard Sharpe and the Expedition to Denmark, 1807\", 17.0], ['Trois aventures de Sherlock Holmes', 17.0], ['The Transall Saga', 16.0], ['Chrono-minets', 16.0], [\"What to Expect When You're Expecting (Revised Edition)\", 16.0], ['Le Livre des contes perdus', 16.0], ['Power Game, tome 2 : Ruthless.com', 16.0], ['Guinevere', 16.0], ['Catherine, Called Birdy (Trophy Newbery)', 16.0], ['2020653818', 16.0], ['The Stranger', 16.0], ['Le Petit Prince', 16.0], ['Brother to Shadows', 16.0], [\"The Sword of Maiden's Tears (Book One of the Twelve Treasures)\", 16.0], ['Curious George and the Dinosaur', 16.0], ['Harry Potter, tome 2 : Harry Potter et la Chambre des secrets', 16.0], [\"Thou Shalt Not Be Aware: Society's Betrayal of the Child\", 15.0], ['Power games : Politika', 15.0], ['How Sharp Is Your Pencil?', 15.0], ['A Girl Named Disaster', 13.0], ['The Cat and the Curmudgeon', 13.0], ['What to Expect the First Year', 13.0], ['Le rouge et le noir', 11.0]]\n"
     ]
    }
   ],
   "source": [
    "#loading dictionary ISBN:title of the book\n",
    "def book_names():\n",
    "    books={}\n",
    "    for line in open(\"BX-Books.csv\"):\n",
    "        line=line.replace(\"\\\";\\\"\",\"\\\";;\\\"\")\n",
    "        line=line.replace(\"\\\"\",\"\")\n",
    "        (id,title)=line.split(\";;\")[0:2]\n",
    "        books[id]=title\n",
    "    return books#vraci book_names={id:title}\n",
    "\n",
    "#loading the ratings\n",
    "def user_book_rating():\n",
    "    prefs={}\n",
    "    count=0\n",
    "    for line in open(\"BX-Book-Ratings.csv\"):\n",
    "        line=line.replace(\"\\\"\",\"\")\n",
    "        line=line.replace(\"\\\\\",\"\")\n",
    "        line=line.replace(\".\",\"\")\n",
    "        line=line.replace(\"\\n\",\"\")\n",
    "        (user,bookid,rating)=line.split(\";\")\n",
    "        prefs.setdefault(user,{})\n",
    "        try:\n",
    "            if float(rating)>0:\n",
    "                prefs[user][bookid]=float(rating)\n",
    "            else:\n",
    "                prefs[user][bookid]=7.6\n",
    "        except:\n",
    "            count+=1\n",
    "    print(count)\n",
    "    return prefs#prefs={user:{bookid:rating}}\n",
    "\n",
    "def item_users_map(prefs):\n",
    "    book_reco={}\n",
    "    for users in prefs:\n",
    "        for bookid in prefs[users]:\n",
    "            book_reco.setdefault(bookid, {})\n",
    "            book_reco[bookid][users]=prefs[users][bookid]\n",
    "    return book_reco#book_reco={bookid:{user:rating}}\n",
    "\n",
    "\n",
    "def item_items_map_all(book_reco,prefs): #tabulka pro vsechny knihy           \n",
    "    book_final={}\n",
    "    for bookid in book_reco:\n",
    "        book_final.setdefault(bookid,{})\n",
    "        for user in book_reco[bookid]:\n",
    "            for book_n in prefs[user]:\n",
    "                if book_n in book_final[bookid].keys():\n",
    "                    book_final[bookid][book_n][0]+=1\n",
    "                    book_final[bookid][book_n][1]+=prefs[user][book_n]\n",
    "                else:\n",
    "                    book_final[bookid][book_n]=[1,prefs[user][book_n]]\n",
    "    return book_final#book_final={bookid:{book_n:[numbre_of_users,sum_of_rating]}}\n",
    "\n",
    "def item_items_map(books,book_reco,prefs):#pouze pro knihy, ktere potrebuji\n",
    "    book_final={}\n",
    "    for bookid in books:\n",
    "        book_final.setdefault(bookid,{})\n",
    "        for user in book_reco[bookid]:\n",
    "            for book_n in prefs[user]:\n",
    "                if book_n in book_final[bookid].keys():\n",
    "                    book_final[bookid][book_n][0]+=1\n",
    "                    book_final[bookid][book_n][1]+=prefs[user][book_n]\n",
    "                else:\n",
    "                    book_final[bookid][book_n]=[1,prefs[user][book_n]]\n",
    "    return book_final#book_final={bookid_selected:{book_n:[numbre_of_users,sum_of_rating]}}\n",
    "\n",
    "    \n",
    "\n",
    "\n",
    "def upload_text():\n",
    "    books=[]\n",
    "    for line in open(\"moje_vypujcky.txt\" ):\n",
    "        line=line.replace(\"\\n\",\"\")\n",
    "        books.append(line)\n",
    "    print(books)\n",
    "    return books\n",
    "\n",
    "def recommend(books,book_final):\n",
    "    vystup={}\n",
    "#nahrani prislusnych knih k dane knize\n",
    "    for i in books:\n",
    "        for j in book_final[i].keys():\n",
    "            if j in vystup:\n",
    "                vystup[j][0]+=book_final[i][j][0]\n",
    "                vystup[j][1]+=book_final[i][j][1]\n",
    "            else:\n",
    "                vystup[j]=[book_final[i][j][0],book_final[i][j][1]]\n",
    "    for i in books:\n",
    "        del vystup[i]#vymaze knihy, ktere uz jsem cetla\n",
    "#     print(vystup)\n",
    "    return sort(vystup,10)\n",
    "\n",
    "def getKey(item):\n",
    "    return item[1]\n",
    "\n",
    "def sort(knihovna,vaha):\n",
    "    vystup=[]\n",
    "    for i in knihovna:\n",
    "        vystup.append([i,vaha*knihovna[i][0]+knihovna[i][1]])\n",
    "    return sorted(vystup, key=getKey, reverse=True)\n",
    "\n",
    "def bookid_to_bookname(pole,books):\n",
    "    names=[]\n",
    "    for i in range(0,len(pole)):\n",
    "        try:\n",
    "            names.append([books[pole[i][0]],pole[i][1]])\n",
    "        except:\n",
    "            names.append(pole[i])\n",
    "    return names\n",
    "\n",
    "#telo programu\n",
    "\n",
    "prefs=user_book_rating()#nahrani vsech hodnoceni\n",
    "books=upload_text()#nahrani knih, ktere mam rad\n",
    "book_reco=item_users_map(prefs)\n",
    "book_final=item_items_map(books,book_reco,prefs)#mapa pro moje oblibene knihy\n",
    "vystup=recommend(books,book_final)#slouceni a setrizeni\n",
    "names=bookid_to_bookname(vystup,book_names())#prekodovani ISBN na jmena\n",
    "text_file=open(\"Doporuceni.txt\",\"w\")#zapsani do souboru\n",
    "text_file.write(\"%s\" % names)\n",
    "text_file.close()\n",
    "\n",
    "\n",
    "\n",
    "print(names)\n"
   ]
  },
  {
   "cell_type": "code",
   "execution_count": 36,
   "metadata": {
    "collapsed": false
   },
   "outputs": [
    {
     "data": {
      "text/plain": [
       "[1, 2, 3, 4]"
      ]
     },
     "execution_count": 36,
     "metadata": {},
     "output_type": "execute_result"
    }
   ],
   "source": []
  },
  {
   "cell_type": "code",
   "execution_count": null,
   "metadata": {
    "collapsed": true
   },
   "outputs": [],
   "source": []
  }
 ],
 "metadata": {
  "kernelspec": {
   "display_name": "Python [Root]",
   "language": "python",
   "name": "Python [Root]"
  },
  "language_info": {
   "codemirror_mode": {
    "name": "ipython",
    "version": 3
   },
   "file_extension": ".py",
   "mimetype": "text/x-python",
   "name": "python",
   "nbconvert_exporter": "python",
   "pygments_lexer": "ipython3",
   "version": "3.5.2"
  }
 },
 "nbformat": 4,
 "nbformat_minor": 0
}

{
 "cells": [
  {
   "cell_type": "code",
   "execution_count": null,
   "metadata": {
    "collapsed": true
   },
   "outputs": [],
   "source": [
    "import pandas as pd\n",
    "import numpy as np"
   ]
  },
  {
   "cell_type": "code",
   "execution_count": null,
   "metadata": {
    "collapsed": false
   },
   "outputs": [],
   "source": [
    "#nacist data\n",
    "books = pd.read_csv('BX-Books.csv', encoding='iso-8859-1', sep=';', header=0,usecols=range(5))\n",
    "ratings = pd.read_csv('BX-Book-Ratings.csv', encoding='iso-8859-1', sep=';', header=0)\n",
    "mybooks = pd.read_csv('moje_vypujcky.txt', encoding='iso-8859-1',header=None,names=['ISBN'],dtype=str)\n"
   ]
  },
  {
   "cell_type": "code",
   "execution_count": null,
   "metadata": {
    "collapsed": false
   },
   "outputs": [],
   "source": [
    "#vybrání hodnocení pro mé knihy\n",
    "ratings_my=pd.merge(ratings,mybooks,how=\"inner\", on=\"ISBN\")\n",
    "#databáze knihy_vše - knihy_mé\n",
    "new=pd.merge(ratings,ratings_my, how=\"inner\",on=\"User-ID\")"
   ]
  },
  {
   "cell_type": "code",
   "execution_count": null,
   "metadata": {
    "collapsed": false
   },
   "outputs": [],
   "source": [
    "#počet hodnocení u jednotlivé knihy\n",
    "df2=ratings.groupby([\"ISBN\"]).count()\n",
    "#počet_hodnocení u knih společně\n",
    "df1=new.groupby([\"ISBN_x\",\"ISBN_y\"]).count()\n",
    "df3=pd.merge(df1.reset_index(),df2.reset_index(),left_on=\"ISBN_x\",right_on=\"ISBN\", how=\"left\",suffixes=(1,2))\n",
    "#kromě jiného tady mám ke kažné dvojici knih, které mě zajímají kolikrát se objevili společně a pak kolikrát se každá objevila zvlášt\n",
    "df4=pd.merge(df3.reset_index(),df2.reset_index(),left_on=\"ISBN_y\",right_on=\"ISBN\", how=\"left\",suffixes=(3,4))\n"
   ]
  },
  {
   "cell_type": "code",
   "execution_count": 129,
   "metadata": {
    "collapsed": false
   },
   "outputs": [],
   "source": [
    "# nový sloupeček \"podobnost\", který udává, jak jsou knihy od sebe vzdáleny v Jaccardově míře\n",
    "df4[\"podobnost\"]=df4[\"User-ID1\"]/(df4[\"User-ID2\"]+df4[\"User-ID\"]-2*df4[\"User-ID1\"]+1)\n"
   ]
  },
  {
   "cell_type": "code",
   "execution_count": null,
   "metadata": {
    "collapsed": false
   },
   "outputs": [],
   "source": [
    "result=pd.merge(df4,books,how=\"inner\",left_on=\"ISBN_x\",right_on=\"ISBN\").sort_values(by=\"podobnost\",ascending=False)\n",
    "# ořezání o to, co nechci tisknout\n",
    "result_f=result.loc[:,['ISBN', 'Book-Title',\n",
    "       'Book-Author', 'Year-Of-Publication', 'Publisher',\"podobnost\"]]\n",
    "# tak tohle už je tu jen proto, že nemáme vyčištěné data a k jedné knize můžeme mít víc ISBN, když se to stane, tak je prostě sečtu\n",
    "# top kinhy jsou samozřejmě knihy z mého výběru, což je fajn, lze nastavit tak, aby se nezobrazili, ale schválně jsem to nechala \n",
    "result_f.groupby([\"Book-Title\",\"Book-Author\"]).sum().sort_values(by=\"podobnost\",ascending=False).head(20)\n"
   ]
  }
 ],
 "metadata": {
  "kernelspec": {
   "display_name": "Python [Root]",
   "language": "python",
   "name": "Python [Root]"
  },
  "language_info": {
   "codemirror_mode": {
    "name": "ipython",
    "version": 3
   },
   "file_extension": ".py",
   "mimetype": "text/x-python",
   "name": "python",
   "nbconvert_exporter": "python",
   "pygments_lexer": "ipython3",
   "version": "3.5.2"
  }
 },
 "nbformat": 4,
 "nbformat_minor": 0
}
